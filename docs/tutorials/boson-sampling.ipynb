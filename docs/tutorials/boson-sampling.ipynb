{
 "cells": [
  {
   "cell_type": "markdown",
   "id": "damaged-venice",
   "metadata": {},
   "source": [
    "# Boson Sampling"
   ]
  },
  {
   "cell_type": "code",
   "execution_count": 1,
   "id": "antique-radiation",
   "metadata": {},
   "outputs": [
    {
     "output_type": "stream",
     "name": "stdout",
     "text": [
      "[<Result instruction=<pq.Sampling(modes=(0, 1, 2, 3))> samples=[array([1, 0, 0, 1]), array([0, 1, 0, 1]), array([1, 0, 0, 1]), array([0, 1, 0, 1]), array([1, 0, 0, 1])]>]\n"
     ]
    }
   ],
   "source": [
    "import numpy as np\n",
    "import piquasso as pq\n",
    "\n",
    "\n",
    "with pq.Program() as program:\n",
    "    pq.Q() | pq.SamplingState(0, 1, 1, 0)\n",
    "\n",
    "    pq.Q(0, 1) | pq.Beamsplitter(theta=np.pi / 3, phi=np.pi / 4)\n",
    "\n",
    "    pq.Q(2, 3) | pq.Beamsplitter(theta=np.pi / 2, phi=np.pi / 3)\n",
    "\n",
    "    pq.Q() | pq.Sampling()\n",
    "\n",
    "results = program.execute(shots=5)\n",
    "\n",
    "print(results)"
   ]
  },
  {
   "cell_type": "code",
   "execution_count": null,
   "metadata": {},
   "outputs": [],
   "source": []
  }
 ],
 "metadata": {
  "kernelspec": {
   "name": "python3",
   "display_name": "Python 3.8.10 64-bit"
  },
  "language_info": {
   "codemirror_mode": {
    "name": "ipython",
    "version": 3
   },
   "file_extension": ".py",
   "mimetype": "text/x-python",
   "name": "python",
   "nbconvert_exporter": "python",
   "pygments_lexer": "ipython3",
   "version": "3.8.10"
  },
  "interpreter": {
   "hash": "34db0c56f9f693e2a6e50531640b81abeb125704dda705567dd262fe266775fe"
  }
 },
 "nbformat": 4,
 "nbformat_minor": 5
}