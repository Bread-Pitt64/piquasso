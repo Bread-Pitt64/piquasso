{
 "cells": [
  {
   "cell_type": "markdown",
   "metadata": {},
   "source": [
    "# Boson Sampling"
   ]
  },
  {
   "cell_type": "code",
   "execution_count": 1,
   "metadata": {},
   "outputs": [
    {
     "name": "stdout",
     "output_type": "stream",
     "text": [
      "<Result samples=[(1, 0, 0, 1), (0, 1, 0, 1), (0, 1, 0, 1), (1, 0, 0, 1), (1, 0, 0, 1)] state=<piquasso._backends.sampling.state.SamplingState object at 0x7ff85831ac10>>\n"
     ]
    }
   ],
   "source": [
    "import numpy as np\n",
    "import piquasso as pq\n",
    "\n",
    "\n",
    "with pq.Program() as program:\n",
    "    pq.Q(all) | pq.StateVector([0, 1, 1, 0])\n",
    "\n",
    "    pq.Q(0, 1) | pq.Beamsplitter(theta=np.pi / 3, phi=np.pi / 4)\n",
    "    pq.Q(2, 3) | pq.Beamsplitter(theta=np.pi / 2, phi=np.pi / 3)\n",
    "\n",
    "    pq.Q() | pq.Sampling()\n",
    "\n",
    "simulator = pq.SamplingSimulator(d=4)\n",
    "\n",
    "result = simulator.execute(program, shots=5)\n",
    "\n",
    "print(result)"
   ]
  }
 ],
 "metadata": {
  "interpreter": {
   "hash": "9a666e8b1cfb18010a57d7338eef2aa07a864f68c70adc54bdde5a86d8f5ca55"
  },
  "kernelspec": {
   "display_name": "Python 3.8.10 64-bit ('.venv': venv)",
   "name": "python3"
  },
  "language_info": {
   "codemirror_mode": {
    "name": "ipython",
    "version": 3
   },
   "file_extension": ".py",
   "mimetype": "text/x-python",
   "name": "python",
   "nbconvert_exporter": "python",
   "pygments_lexer": "ipython3",
   "version": "3.8.10"
  }
 },
 "nbformat": 4,
 "nbformat_minor": 5
}
