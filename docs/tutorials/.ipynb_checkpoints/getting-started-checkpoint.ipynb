{
 "cells": [
  {
   "cell_type": "markdown",
   "id": "medical-morocco",
   "metadata": {},
   "source": [
    "# Getting Started"
   ]
  },
  {
   "cell_type": "code",
   "execution_count": 1,
   "id": "antique-collapse",
   "metadata": {},
   "outputs": [],
   "source": [
    "import piquasso as pq\n",
    "import numpy as np"
   ]
  },
  {
   "cell_type": "code",
   "execution_count": 9,
   "id": "rational-romantic",
   "metadata": {},
   "outputs": [
    {
     "data": {
      "text/plain": [
       "[Result of MeasureHomodyne on modes (0,) with params (array([[1.e-08, 0.e+00],\n",
       "        [0.e+00, 1.e+08]]),) with outcome '[ 2.40897485e-01 -5.81366426e+02]'.]"
      ]
     },
     "execution_count": 9,
     "metadata": {},
     "output_type": "execute_result"
    }
   ],
   "source": [
    "import os\n",
    "\n",
    "import sys\n",
    "\n",
    "\n",
    "with pq.Program() as program:\n",
    "    pq.Q() | pq.GaussianState(d=3)\n",
    "    \n",
    "    pq.Q(0, 1) | pq.B(theta=0, phi=np.pi/2)\n",
    "    \n",
    "    pq.Q(0) | pq.MeasureHomodyne()\n",
    "    \n",
    "program.execute()"
   ]
  },
  {
   "cell_type": "markdown",
   "id": "resident-weather",
   "metadata": {},
   "source": [
    "Some text."
   ]
  },
  {
   "cell_type": "markdown",
   "id": "lightweight-brooks",
   "metadata": {},
   "source": []
  },
  {
   "cell_type": "markdown",
   "id": "inappropriate-actor",
   "metadata": {},
   "source": [
    "Some equations:\n",
    "\n",
    "$$\n",
    "    \\exp(i \\pi) = - 1.\n",
    "$$"
   ]
  }
 ],
 "metadata": {
  "kernelspec": {
   "display_name": "Python 3",
   "language": "python",
   "name": "python3"
  },
  "language_info": {
   "codemirror_mode": {
    "name": "ipython",
    "version": 3
   },
   "file_extension": ".py",
   "mimetype": "text/x-python",
   "name": "python",
   "nbconvert_exporter": "python",
   "pygments_lexer": "ipython3",
   "version": "3.8.3"
  }
 },
 "nbformat": 4,
 "nbformat_minor": 5
}
