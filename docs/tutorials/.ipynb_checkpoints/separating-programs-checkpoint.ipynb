{
 "cells": [
  {
   "cell_type": "markdown",
   "id": "sorted-gravity",
   "metadata": {},
   "source": [
    "# Separating Programs\n",
    "\n",
    "With Piquasso, one could easily separate programs into multiple `with` statements:"
   ]
  },
  {
   "cell_type": "code",
   "execution_count": null,
   "id": "mineral-slide",
   "metadata": {},
   "outputs": [],
   "source": [
    "import piquasso as pq\n",
    "\n",
    "with pq.Program() as initialization:\n",
    "    pq.Q()  | pq.GaussianState(d=3)\n",
    "    \n",
    "    pq.Q(0, 1)  | pq.S2()\n",
    "    "
   ]
  }
 ],
 "metadata": {
  "kernelspec": {
   "display_name": "Python 3",
   "language": "python",
   "name": "python3"
  },
  "language_info": {
   "codemirror_mode": {
    "name": "ipython",
    "version": 3
   },
   "file_extension": ".py",
   "mimetype": "text/x-python",
   "name": "python",
   "nbconvert_exporter": "python",
   "pygments_lexer": "ipython3",
   "version": "3.8.3"
  }
 },
 "nbformat": 4,
 "nbformat_minor": 5
}
