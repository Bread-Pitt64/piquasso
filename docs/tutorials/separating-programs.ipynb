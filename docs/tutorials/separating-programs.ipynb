{
 "cells": [
  {
   "cell_type": "markdown",
   "source": [
    "# Separating Programs\n",
    "\n",
    "With Piquasso, one could easily separate programs into multiple `with` statements:"
   ],
   "metadata": {}
  },
  {
   "cell_type": "code",
   "execution_count": 2,
   "source": [
    "import piquasso as pq\n",
    "import numpy as np\n",
    "\n",
    "\n",
    "with pq.Program() as preparation:\n",
    "    pq.Q(0, 1)  | pq.Squeezing2(r=1, phi=np.pi / 4)\n",
    "    pq.Q(2, 3)  | pq.Squeezing2(r=2, phi=np.pi / 3)\n",
    "\n",
    "with pq.Program() as interferometer:\n",
    "    pq.Q(0, 1) | pq.Beamsplitter(theta=np.pi / 4, phi=np.pi / 3)\n",
    "    pq.Q(1)    | pq.Phaseshifter(phi=np.pi / 2)\n",
    "    pq.Q(1, 2) | pq.Beamsplitter(theta=np.pi / 5, phi=np.pi / 6)\n",
    "\n",
    "with pq.Program() as executable_program:\n",
    "    pq.Q(all) | preparation\n",
    "\n",
    "    pq.Q(0, 1, 2) | interferometer\n",
    "    pq.Q(2, 3, 4) | interferometer\n",
    "\n",
    "    pq.Q(3) | pq.HeterodyneMeasurement()\n",
    "\n",
    "\n",
    "state = pq.GaussianState(d=5)\n",
    "result = state.apply(executable_program)\n",
    "result"
   ],
   "outputs": [
    {
     "output_type": "execute_result",
     "data": {
      "text/plain": [
       "<Result instruction=<pq.HeterodyneMeasurement(modes=(3,))> samples=[[10.47901232 -6.26156014]]>"
      ]
     },
     "metadata": {},
     "execution_count": 2
    }
   ],
   "metadata": {}
  }
 ],
 "metadata": {
  "kernelspec": {
   "name": "python3",
   "display_name": "Python 3.8.10 64-bit ('.venv': venv)"
  },
  "language_info": {
   "codemirror_mode": {
    "name": "ipython",
    "version": 3
   },
   "file_extension": ".py",
   "mimetype": "text/x-python",
   "name": "python",
   "nbconvert_exporter": "python",
   "pygments_lexer": "ipython3",
   "version": "3.8.10"
  },
  "interpreter": {
   "hash": "34db0c56f9f693e2a6e50531640b81abeb125704dda705567dd262fe266775fe"
  }
 },
 "nbformat": 4,
 "nbformat_minor": 5
}