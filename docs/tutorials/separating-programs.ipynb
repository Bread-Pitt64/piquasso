{
 "cells": [
  {
   "cell_type": "markdown",
   "id": "sorted-gravity",
   "metadata": {},
   "source": [
    "# Separating Programs\n",
    "\n",
    "With Piquasso, one could easily separate programs into multiple `with` statements:"
   ]
  },
  {
   "cell_type": "code",
   "execution_count": 4,
   "id": "mineral-slide",
   "metadata": {},
   "outputs": [
    {
     "output_type": "execute_result",
     "data": {
      "text/plain": [
       "[<Result instruction=<pq.HeterodyneMeasurement(detection_covariance=[[1. 0.]\n",
       "  [0. 1.]], shots=1, modes=(3,))> samples=[[2.49142112 1.13535883]]>]"
      ]
     },
     "metadata": {},
     "execution_count": 4
    }
   ],
   "source": [
    "import piquasso as pq\n",
    "import numpy as np\n",
    "\n",
    "\n",
    "with pq.Program() as preparation:\n",
    "    pq.Q()  | pq.GaussianState(d=5) | pq.Vacuum()\n",
    "    \n",
    "    pq.Q(0, 1)  | pq.Squeezing2(r=1, phi=np.pi / 4)\n",
    "    pq.Q(2, 3)  | pq.Squeezing2(r=2, phi=np.pi / 3)\n",
    "\n",
    "with pq.Program() as interferometer:\n",
    "    pq.Q(0, 1) | pq.Beamsplitter(theta=np.pi / 4, phi=np.pi / 3)\n",
    "    pq.Q(1)    | pq.Phaseshifter(phi=np.pi / 2)\n",
    "    pq.Q(1, 2) | pq.Beamsplitter(theta=np.pi / 5, phi=np.pi / 6)\n",
    "\n",
    "with pq.Program() as executable_program:\n",
    "    pq.Q(all) | preparation\n",
    "\n",
    "    pq.Q(0, 1, 2) | interferometer\n",
    "    pq.Q(2, 3, 4) | interferometer\n",
    "\n",
    "    pq.Q(3) | pq.HeterodyneMeasurement()\n",
    "\n",
    "executable_program.execute()"
   ]
  },
  {
   "cell_type": "code",
   "execution_count": null,
   "metadata": {},
   "outputs": [],
   "source": []
  }
 ],
 "metadata": {
  "kernelspec": {
   "name": "python383jvsc74a57bd0d61c92716daac777007c874496ae5fa72830967fb20d451296f287597501ccdb",
   "display_name": "Python 3.8.3 64-bit ('3.8.3')"
  },
  "language_info": {
   "codemirror_mode": {
    "name": "ipython",
    "version": 3
   },
   "file_extension": ".py",
   "mimetype": "text/x-python",
   "name": "python",
   "nbconvert_exporter": "python",
   "pygments_lexer": "ipython3",
   "version": "3.8.3-final"
  }
 },
 "nbformat": 4,
 "nbformat_minor": 5
}