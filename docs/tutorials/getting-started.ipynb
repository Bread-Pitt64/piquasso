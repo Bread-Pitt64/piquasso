{
 "cells": [
  {
   "source": [
    "# Getting Started\n",
    "\n",
    "If we have our Piquasso installed, open a file or a terminal, and just type"
   ],
   "cell_type": "markdown",
   "metadata": {}
  },
  {
   "cell_type": "code",
   "execution_count": 23,
   "id": "rational-romantic",
   "metadata": {},
   "outputs": [],
   "source": [
    "import numpy as np\n",
    "import piquasso as pq\n",
    "\n",
    "with pq.Program() as program:\n",
    "    pq.Q()     | pq.GaussianState(d=3) | pq.Vacuum() # Prepare a Gaussian vacuum state;\n",
    "\n",
    "    pq.Q(0)    | pq.Displacement(alpha=1 + 1j)  # Displace the state on mode 0;\n",
    "    pq.Q(0, 1) | pq.Beamsplitter(theta=0, phi=np.pi/2)  # Use a beamsplitter gate on modes 0, 1;\n",
    "\n",
    "    pq.Q(0)    | pq.HomodyneMeasurement(shots=3)  # Measurement on mode 0."
   ]
  },
  {
   "source": [
    "to create your first program in Piquasso. The instructions of the program are positioned in the `with` statement. On the left hand side the `pq.Q` denotes the qumodes on which the instructions should be executed, the right hand side is for the actual operation, like `pq.D` (stands for displacement), which accepts arguments.\n",
    "\n",
    "Roughly the program translates to\n",
    "\n",
    "- Prepare a Gaussian state in a vacuum state. One should specify the number of modes, on which the state is initialized.\n",
    "\n",
    "- Apply a displacement on mode 0. The displacement operation accepts `alpha` as a parameter. The Gaussian state will be displaced by the value of `alpha` in phase space in the specified mode.\n",
    "\n",
    "- Apply a beamsplitter gate on the modes 0, 1.\n",
    "\n",
    "- Perform a homodyne measurement on mode 0.\n",
    "\n",
    "To execute your program, just issue"
   ],
   "cell_type": "markdown",
   "metadata": {}
  },
  {
   "cell_type": "code",
   "execution_count": 24,
   "id": "african-george",
   "metadata": {},
   "outputs": [
    {
     "output_type": "execute_result",
     "data": {
      "text/plain": [
       "[<Result instruction=<pq.HomodyneMeasurement(phi=0.0, detection_covariance=[[1.e-08 0.e+00]\n",
       "  [0.e+00 1.e+08]], shots=3, modes=(0,))> samples=[[ 2.16382556e+00 -6.29171839e+03]\n",
       "  [ 2.87061485e+00  1.86360197e+04]\n",
       "  [ 3.42837553e+00 -3.65318673e+03]]>]"
      ]
     },
     "metadata": {},
     "execution_count": 24
    }
   ],
   "source": [
    "results = program.execute()\n",
    "results"
   ]
  },
  {
   "cell_type": "markdown",
   "id": "resident-weather",
   "metadata": {},
   "source": [
    "Immediately, you should be able to see the results of the simulation. The generated samples corresponding to the first (and only) measurement can be accessed by"
   ]
  },
  {
   "source": [
    "results[0].samples"
   ],
   "cell_type": "code",
   "metadata": {},
   "execution_count": 25,
   "outputs": [
    {
     "output_type": "execute_result",
     "data": {
      "text/plain": [
       "array([[ 2.16382556e+00, -6.29171839e+03],\n",
       "       [ 2.87061485e+00,  1.86360197e+04],\n",
       "       [ 3.42837553e+00, -3.65318673e+03]])"
      ]
     },
     "metadata": {},
     "execution_count": 25
    }
   ]
  }
 ],
 "metadata": {
  "kernelspec": {
   "name": "python383jvsc74a57bd0d61c92716daac777007c874496ae5fa72830967fb20d451296f287597501ccdb",
   "display_name": "Python 3.8.3 64-bit ('3.8.3')"
  },
  "language_info": {
   "codemirror_mode": {
    "name": "ipython",
    "version": 3
   },
   "file_extension": ".py",
   "mimetype": "text/x-python",
   "name": "python",
   "nbconvert_exporter": "python",
   "pygments_lexer": "ipython3",
   "version": "3.8.3-final"
  }
 },
 "nbformat": 4,
 "nbformat_minor": 5
}