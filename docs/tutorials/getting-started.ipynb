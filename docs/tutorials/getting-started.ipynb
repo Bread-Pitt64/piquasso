{
 "cells": [
  {
   "cell_type": "markdown",
   "source": [
    "# Getting Started\n",
    "\n",
    "If we have our Piquasso installed, open a file or a terminal, and just type"
   ],
   "metadata": {}
  },
  {
   "cell_type": "code",
   "execution_count": 1,
   "source": [
    "import numpy as np\n",
    "import piquasso as pq\n",
    "\n",
    "with pq.Program() as program:\n",
    "    pq.Q(0)    | pq.Displacement(alpha=1 + 1j)  # Displace the state on mode 0;\n",
    "    pq.Q(0, 1) | pq.Beamsplitter(theta=0, phi=np.pi/2)  # Use a beamsplitter gate on modes 0, 1;\n",
    "\n",
    "    pq.Q(0)    | pq.HomodyneMeasurement()  # Measurement on mode 0."
   ],
   "outputs": [],
   "metadata": {}
  },
  {
   "cell_type": "markdown",
   "source": [
    "to create your first program in Piquasso. The instructions of the program are positioned in the `with` statement. On the left hand side the `pq.Q` denotes the qumodes on which the instructions should be executed, the right hand side is for the actual operation, like `pq.D` (stands for displacement), which accepts arguments.\n",
    "\n",
    "Roughly the program translates to\n",
    "\n",
    "- Apply a displacement on mode 0. The displacement operation accepts `alpha` as a parameter. The Gaussian state will be displaced by the value of `alpha` in phase space in the specified mode.\n",
    "\n",
    "- Apply a beamsplitter gate on the modes 0, 1.\n",
    "\n",
    "- Perform a homodyne measurement on mode 0.\n",
    "\n",
    "To execute your program, create a state to simulate your program with. In this example, we prepare a Gaussian vacuum state. One should specify the number of modes, on which the state is initialized."
   ],
   "metadata": {}
  },
  {
   "cell_type": "code",
   "execution_count": 2,
   "source": [
    "state = pq.GaussianState(d=3)  # Prepare a Gaussian vacuum state;\n",
    "\n",
    "result = state.apply(program, shots=3)  # Apply the program with 3 shots.\n",
    "result"
   ],
   "outputs": [
    {
     "output_type": "execute_result",
     "data": {
      "text/plain": [
       "<Result instruction=<pq.HomodyneMeasurement(phi=0.0, z=0.0001, modes=(0,))> samples=[[ 1.51300237e+00  1.01572660e+04]\n",
       " [-4.19350522e-01  1.22363182e+04]\n",
       " [ 2.98928323e+00  1.13053600e+04]]>"
      ]
     },
     "metadata": {},
     "execution_count": 2
    }
   ],
   "metadata": {}
  },
  {
   "cell_type": "markdown",
   "source": [
    "Immediately, you should be able to see the results of the simulation. The generated samples corresponding to the first (and only) measurement can be accessed by"
   ],
   "metadata": {}
  },
  {
   "cell_type": "code",
   "execution_count": 3,
   "source": [
    "result.samples"
   ],
   "outputs": [
    {
     "output_type": "execute_result",
     "data": {
      "text/plain": [
       "array([[ 1.51300237e+00,  1.01572660e+04],\n",
       "       [-4.19350522e-01,  1.22363182e+04],\n",
       "       [ 2.98928323e+00,  1.13053600e+04]])"
      ]
     },
     "metadata": {},
     "execution_count": 3
    }
   ],
   "metadata": {}
  }
 ],
 "metadata": {
  "kernelspec": {
   "name": "python3",
   "display_name": "Python 3.8.10 64-bit ('.venv': venv)"
  },
  "language_info": {
   "codemirror_mode": {
    "name": "ipython",
    "version": 3
   },
   "file_extension": ".py",
   "mimetype": "text/x-python",
   "name": "python",
   "nbconvert_exporter": "python",
   "pygments_lexer": "ipython3",
   "version": "3.8.10"
  },
  "interpreter": {
   "hash": "34db0c56f9f693e2a6e50531640b81abeb125704dda705567dd262fe266775fe"
  }
 },
 "nbformat": 4,
 "nbformat_minor": 5
}