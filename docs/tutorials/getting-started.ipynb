{
 "cells": [
  {
   "cell_type": "markdown",
   "metadata": {},
   "source": [
    "# Getting Started\n",
    "\n",
    "If we have our Piquasso installed, open a file or a terminal, and just type"
   ]
  },
  {
   "cell_type": "code",
   "execution_count": 2,
   "metadata": {},
   "outputs": [],
   "source": [
    "import numpy as np\n",
    "import piquasso as pq\n",
    "\n",
    "with pq.Program() as program:\n",
    "    pq.Q(0) | pq.Displacement(alpha=1 + 1j)  # Displace the state on mode 0;\n",
    "    pq.Q(0, 1) | pq.Beamsplitter(\n",
    "        theta=0, phi=np.pi / 2\n",
    "    )  # Use a beamsplitter gate on modes 0, 1;\n",
    "\n",
    "    pq.Q(0) | pq.HomodyneMeasurement()  # Measurement on mode 0."
   ]
  },
  {
   "cell_type": "markdown",
   "metadata": {},
   "source": [
    "to create your first program in Piquasso. The instructions of the program are positioned in the `with` statement. On the left hand side the `pq.Q` denotes the qumodes on which the instructions should be executed, the right hand side is for the actual operation, like `pq.D` (stands for displacement), which accepts arguments.\n",
    "\n",
    "Roughly the program translates to\n",
    "\n",
    "- Apply a displacement on mode 0. The displacement operation accepts `alpha` as a parameter. The Gaussian state will be displaced by the value of `alpha` in phase space in the specified mode.\n",
    "\n",
    "- Apply a beamsplitter gate on the modes 0, 1.\n",
    "\n",
    "- Perform a homodyne measurement on mode 0.\n",
    "\n",
    "To execute your program, create a simulator to simulate your program with. For this example, we use `GaussianSimulator`. One should specify the number of modes, on which the state is initialized."
   ]
  },
  {
   "cell_type": "code",
   "execution_count": 3,
   "metadata": {},
   "outputs": [
    {
     "data": {
      "text/plain": [
       "<Result samples=[(0.87493606301427, 23329.399563353894), (3.099665929299532, -2897.015881035894), (3.8923820102408877, 10844.786920744315)]>"
      ]
     },
     "execution_count": 3,
     "metadata": {},
     "output_type": "execute_result"
    }
   ],
   "source": [
    "simulator = pq.GaussianSimulator(d=3)  # Prepare a Gaussian vacuum state;\n",
    "\n",
    "result = simulator.execute(program, shots=3)  # Apply the program with 3 shots.\n",
    "result"
   ]
  },
  {
   "cell_type": "markdown",
   "metadata": {},
   "source": [
    "Immediately, you should be able to see the results of the simulation. The generated samples corresponding to the first (and only) measurement can be accessed by"
   ]
  },
  {
   "cell_type": "code",
   "execution_count": 4,
   "metadata": {},
   "outputs": [
    {
     "data": {
      "text/plain": [
       "[(0.87493606301427, 23329.399563353894),\n",
       " (3.099665929299532, -2897.015881035894),\n",
       " (3.8923820102408877, 10844.786920744315)]"
      ]
     },
     "execution_count": 4,
     "metadata": {},
     "output_type": "execute_result"
    }
   ],
   "source": [
    "result.samples"
   ]
  }
 ],
 "metadata": {
  "interpreter": {
   "hash": "9a666e8b1cfb18010a57d7338eef2aa07a864f68c70adc54bdde5a86d8f5ca55"
  },
  "kernelspec": {
   "display_name": "Python 3.8.10 64-bit ('.venv': venv)",
   "name": "python3"
  },
  "language_info": {
   "codemirror_mode": {
    "name": "ipython",
    "version": 3
   },
   "file_extension": ".py",
   "mimetype": "text/x-python",
   "name": "python",
   "nbconvert_exporter": "python",
   "pygments_lexer": "ipython3",
   "version": "3.8.10"
  }
 },
 "nbformat": 4,
 "nbformat_minor": 5
}
