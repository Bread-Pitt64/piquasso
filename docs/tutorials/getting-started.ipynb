{
 "cells": [
  {
   "source": [
    "# Getting Started\n",
    "\n",
    "If we have our Piquasso installed, open a file or a terminal, and just type"
   ],
   "cell_type": "markdown",
   "metadata": {}
  },
  {
   "cell_type": "code",
   "execution_count": 1,
   "id": "rational-romantic",
   "metadata": {},
   "outputs": [],
   "source": [
    "import numpy as np\n",
    "import piquasso as pq\n",
    "\n",
    "with pq.Program() as program:\n",
    "    pq.Q()     | pq.GaussianState(d=3) | pq.Vacuum() # Prepare a Gaussian vacuum state;\n",
    "\n",
    "    pq.Q(0)    | pq.Displacement(alpha=1 + 1j)  # Displace the state on mode 0;\n",
    "    pq.Q(0, 1) | pq.Beamsplitter(theta=0, phi=np.pi/2)  # Use a beamsplitter gate on modes 0, 1;\n",
    "\n",
    "    pq.Q(0)    | pq.HomodyneMeasurement()  # Measurement on mode 0."
   ]
  },
  {
   "source": [
    "to create your first program in Piquasso. The instructions of the program are positioned in the `with` statement. On the left hand side the `pq.Q` denotes the qumodes on which the instructions should be executed, the right hand side is for the actual operation, like `pq.D` (stands for displacement), which accepts arguments.\n",
    "\n",
    "Roughly the program translates to\n",
    "\n",
    "- Prepare a Gaussian state in a vacuum state. One should specify the number of modes, on which the state is initialized.\n",
    "\n",
    "- Apply a displacement on mode 0. The displacement operation accepts `alpha` as a parameter. The Gaussian state will be displaced by the value of `alpha` in phase space in the specified mode.\n",
    "\n",
    "- Apply a beamsplitter gate on the modes 0, 1.\n",
    "\n",
    "- Perform a homodyne measurement on mode 0.\n",
    "\n",
    "To execute your program, just issue"
   ],
   "cell_type": "markdown",
   "metadata": {}
  },
  {
   "cell_type": "code",
   "execution_count": 2,
   "id": "african-george",
   "metadata": {},
   "outputs": [
    {
     "output_type": "execute_result",
     "data": {
      "text/plain": [
       "[<Result instruction=<pq.HomodyneMeasurement(phi=0.0, z=0.0001, modes=(0,))> samples=[[ 2.60779043e+00  1.11035996e+04]\n",
       "  [ 2.17113776e+00  2.23263914e+04]\n",
       "  [ 4.34079919e+00 -8.33029381e+03]]>]"
      ]
     },
     "metadata": {},
     "execution_count": 2
    }
   ],
   "source": [
    "results = program.execute(shots=3)\n",
    "results"
   ]
  },
  {
   "cell_type": "markdown",
   "id": "resident-weather",
   "metadata": {},
   "source": [
    "Immediately, you should be able to see the results of the simulation. The generated samples corresponding to the first (and only) measurement can be accessed by"
   ]
  },
  {
   "source": [
    "results[0].samples"
   ],
   "cell_type": "code",
   "metadata": {},
   "execution_count": 3,
   "outputs": [
    {
     "output_type": "execute_result",
     "data": {
      "text/plain": [
       "array([[ 2.60779043e+00,  1.11035996e+04],\n",
       "       [ 2.17113776e+00,  2.23263914e+04],\n",
       "       [ 4.34079919e+00, -8.33029381e+03]])"
      ]
     },
     "metadata": {},
     "execution_count": 3
    }
   ]
  },
  {
   "cell_type": "code",
   "execution_count": null,
   "metadata": {},
   "outputs": [],
   "source": []
  }
 ],
 "metadata": {
  "kernelspec": {
   "name": "python3",
   "display_name": "Python 3.8.10 64-bit"
  },
  "language_info": {
   "codemirror_mode": {
    "name": "ipython",
    "version": 3
   },
   "file_extension": ".py",
   "mimetype": "text/x-python",
   "name": "python",
   "nbconvert_exporter": "python",
   "pygments_lexer": "ipython3",
   "version": "3.8.10"
  },
  "interpreter": {
   "hash": "34db0c56f9f693e2a6e50531640b81abeb125704dda705567dd262fe266775fe"
  }
 },
 "nbformat": 4,
 "nbformat_minor": 5
}