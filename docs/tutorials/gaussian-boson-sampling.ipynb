{
 "cells": [
  {
   "cell_type": "markdown",
   "id": "federal-treasury",
   "metadata": {},
   "source": [
    "# Gaussian Boson Sampling"
   ]
  },
  {
   "cell_type": "markdown",
   "id": "economic-detector",
   "metadata": {},
   "source": [
    "Gaussian Boson Sampling can be performed as shown by the following example:"
   ]
  },
  {
   "cell_type": "code",
   "execution_count": 6,
   "id": "functioning-order",
   "metadata": {},
   "outputs": [
    {
     "name": "stdout",
     "output_type": "stream",
     "text": [
      "Samples: [[0, 0, 1, 2, 3], [2, 1, 2, 1, 0], [0, 0, 2, 2, 2], [2, 0, 2, 0, 0], [3, 0, 2, 2, 1]]\n"
     ]
    }
   ],
   "source": [
    "import piquasso as pq\n",
    "import networkx as nx\n",
    "\n",
    "d = 5\n",
    "shots = 5\n",
    "\n",
    "graph = nx.erdos_renyi_graph(n=d, p=0.5)\n",
    "A = nx.adjacency_matrix(graph).toarray()\n",
    "\n",
    "\n",
    "with pq.Program() as gaussian_boson_sampling:\n",
    "    pq.Q() | pq.GaussianState(d=d) | pq.Vacuum()\n",
    "    \n",
    "    pq.Q(all) | pq.Graph(A)\n",
    "    \n",
    "    pq.Q(all) | pq.ParticleNumberMeasurement(shots=shots)\n",
    "\n",
    "results = gaussian_boson_sampling.execute()\n",
    "\n",
    "print(\"Samples:\", results[0].samples)"
   ]
  },
  {
   "cell_type": "markdown",
   "id": "automated-uncertainty",
   "metadata": {},
   "source": [
    "The generated samples could be used to acquire some denser subgraphs of the generated graph with"
   ]
  },
  {
   "cell_type": "code",
   "execution_count": 8,
   "id": "universal-strength",
   "metadata": {},
   "outputs": [
    {
     "name": "stdout",
     "output_type": "stream",
     "text": [
      "Subgraphs: [[2, 3, 3, 4, 4, 4], [0, 0, 1, 2, 2, 3], [2, 2, 3, 3, 4, 4], [0, 0, 2, 2], [0, 0, 0, 2, 2, 3, 3, 4]]\n"
     ]
    }
   ],
   "source": [
    "print(\"Subgraphs:\", results[0].to_subgraph_nodes())"
   ]
  }
 ],
 "metadata": {
  "kernelspec": {
   "display_name": "Python 3",
   "language": "python",
   "name": "python3"
  },
  "language_info": {
   "codemirror_mode": {
    "name": "ipython",
    "version": 3
   },
   "file_extension": ".py",
   "mimetype": "text/x-python",
   "name": "python",
   "nbconvert_exporter": "python",
   "pygments_lexer": "ipython3",
   "version": "3.8.3"
  }
 },
 "nbformat": 4,
 "nbformat_minor": 5
}
