{
 "cells": [
  {
   "cell_type": "markdown",
   "id": "federal-treasury",
   "metadata": {},
   "source": [
    "# Gaussian Boson Sampling"
   ]
  },
  {
   "cell_type": "markdown",
   "id": "economic-detector",
   "metadata": {},
   "source": [
    "Gaussian Boson Sampling can be performed as shown by the following example:"
   ]
  },
  {
   "cell_type": "code",
   "execution_count": 3,
   "id": "functioning-order",
   "metadata": {},
   "outputs": [
    {
     "output_type": "stream",
     "name": "stdout",
     "text": [
      "Samples: [[1, 0, 1, 0, 2], [1, 0, 1, 0, 0], [1, 1, 2, 1, 3], [0, 0, 0, 0, 0], [1, 2, 3, 0, 0]]\n"
     ]
    }
   ],
   "source": [
    "import piquasso as pq\n",
    "import networkx as nx\n",
    "\n",
    "d = 5\n",
    "shots = 5\n",
    "\n",
    "graph = nx.erdos_renyi_graph(n=d, p=0.5)\n",
    "A = nx.adjacency_matrix(graph).toarray()\n",
    "\n",
    "\n",
    "with pq.Program() as gaussian_boson_sampling:\n",
    "    pq.Q() | pq.GaussianState(d=d) | pq.Vacuum()\n",
    "    \n",
    "    pq.Q(all) | pq.Graph(A)\n",
    "    \n",
    "    pq.Q(all) | pq.ParticleNumberMeasurement()\n",
    "\n",
    "result = gaussian_boson_sampling.execute(shots=shots)\n",
    "\n",
    "print(\"Samples:\", result.samples)"
   ]
  },
  {
   "cell_type": "markdown",
   "id": "automated-uncertainty",
   "metadata": {},
   "source": [
    "The generated samples could be used to acquire some denser subgraphs of the generated graph with"
   ]
  },
  {
   "cell_type": "code",
   "execution_count": 4,
   "id": "universal-strength",
   "metadata": {},
   "outputs": [
    {
     "output_type": "stream",
     "name": "stdout",
     "text": [
      "Subgraphs: [[0, 2, 4, 4], [0, 2], [0, 1, 2, 2, 3, 4, 4, 4], [], [0, 1, 1, 2, 2, 2]]\n"
     ]
    }
   ],
   "source": [
    "print(\"Subgraphs:\", result.to_subgraph_nodes())"
   ]
  }
 ],
 "metadata": {
  "kernelspec": {
   "name": "python3",
   "display_name": "Python 3.8.10 64-bit"
  },
  "language_info": {
   "codemirror_mode": {
    "name": "ipython",
    "version": 3
   },
   "file_extension": ".py",
   "mimetype": "text/x-python",
   "name": "python",
   "nbconvert_exporter": "python",
   "pygments_lexer": "ipython3",
   "version": "3.8.10"
  },
  "interpreter": {
   "hash": "34db0c56f9f693e2a6e50531640b81abeb125704dda705567dd262fe266775fe"
  }
 },
 "nbformat": 4,
 "nbformat_minor": 5
}