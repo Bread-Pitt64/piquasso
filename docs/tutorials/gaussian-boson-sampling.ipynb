{
 "cells": [
  {
   "cell_type": "markdown",
   "source": [
    "# Gaussian Boson Sampling"
   ],
   "metadata": {}
  },
  {
   "cell_type": "markdown",
   "source": [
    "Gaussian Boson Sampling can be performed as shown by the following example:"
   ],
   "metadata": {}
  },
  {
   "cell_type": "code",
   "execution_count": 11,
   "source": [
    "import numpy as np\n",
    "import piquasso as pq\n",
    "\n",
    "\n",
    "d = 5\n",
    "shots = 5\n",
    "\n",
    "A = np.array(\n",
    "    [\n",
    "        [0, 1, 0, 1, 1],\n",
    "        [1, 0, 0, 0, 1],\n",
    "        [0, 0, 0, 1, 0],\n",
    "        [1, 0, 1, 0, 1],\n",
    "        [1, 1, 0, 1, 0],\n",
    "    ]\n",
    ")\n",
    "\n",
    "with pq.Program() as gaussian_boson_sampling:\n",
    "    pq.Q(all) | pq.Graph(A)\n",
    "\n",
    "    pq.Q(all) | pq.ParticleNumberMeasurement()\n",
    "\n",
    "\n",
    "state = pq.GaussianState(d=d)\n",
    "\n",
    "result = state.apply(gaussian_boson_sampling, shots=shots)\n",
    "\n",
    "print(\"Samples:\", result.samples)"
   ],
   "outputs": [
    {
     "output_type": "stream",
     "name": "stdout",
     "text": [
      "Samples: [[2, 0, 0, 1, 1], [1, 1, 0, 1, 1], [1, 0, 0, 1, 0], [0, 0, 0, 0, 0], [1, 1, 0, 0, 2]]\n"
     ]
    }
   ],
   "metadata": {}
  },
  {
   "cell_type": "markdown",
   "source": [
    "The generated samples could be used to acquire some denser subgraphs of the generated graph with"
   ],
   "metadata": {}
  },
  {
   "cell_type": "code",
   "execution_count": 14,
   "source": [
    "print(\"Subgraphs:\", result.to_subgraph_nodes())"
   ],
   "outputs": [
    {
     "output_type": "stream",
     "name": "stdout",
     "text": [
      "Subgraphs: [[0, 0, 3, 4], [0, 1, 3, 4], [0, 3], [], [0, 1, 4, 4]]\n"
     ]
    }
   ],
   "metadata": {}
  }
 ],
 "metadata": {
  "kernelspec": {
   "name": "python3",
   "display_name": "Python 3.8.10 64-bit ('.venv': venv)"
  },
  "language_info": {
   "codemirror_mode": {
    "name": "ipython",
    "version": 3
   },
   "file_extension": ".py",
   "mimetype": "text/x-python",
   "name": "python",
   "nbconvert_exporter": "python",
   "pygments_lexer": "ipython3",
   "version": "3.8.10"
  },
  "interpreter": {
   "hash": "34db0c56f9f693e2a6e50531640b81abeb125704dda705567dd262fe266775fe"
  }
 },
 "nbformat": 4,
 "nbformat_minor": 5
}